{
  "nbformat": 4,
  "nbformat_minor": 0,
  "metadata": {
    "colab": {
      "provenance": [],
      "authorship_tag": "ABX9TyOMgz+DMa+89Mm0gIX0ppDI",
      "include_colab_link": true
    },
    "kernelspec": {
      "name": "python3",
      "display_name": "Python 3"
    },
    "language_info": {
      "name": "python"
    }
  },
  "cells": [
    {
      "cell_type": "markdown",
      "metadata": {
        "id": "view-in-github",
        "colab_type": "text"
      },
      "source": [
        "<a href=\"https://colab.research.google.com/github/farahelmashad/ml-from-scratch/blob/main/KMeans/KMeans_from_scratch.ipynb\" target=\"_parent\"><img src=\"https://colab.research.google.com/assets/colab-badge.svg\" alt=\"Open In Colab\"/></a>"
      ]
    },
    {
      "cell_type": "markdown",
      "source": [
        "# KMeans From Scratch"
      ],
      "metadata": {
        "id": "d9L2gVkN1x5n"
      }
    },
    {
      "cell_type": "code",
      "execution_count": 2,
      "metadata": {
        "id": "g6DuD8W71oH-"
      },
      "outputs": [],
      "source": [
        "import numpy as np\n",
        "import matplotlib.pyplot as plt\n"
      ]
    },
    {
      "cell_type": "code",
      "source": [
        "class KMeans:\n",
        "  def __init__(self,K=5,max_iter=100,tol=1e-3):\n",
        "    self.K=K\n",
        "    self.max_iter=max_iter\n",
        "    self.tol=tol\n",
        "\n",
        "    self.clusters=[[] for _ in range(self.K)]\n",
        "\n",
        "    self.centroids=[]\n",
        "\n",
        "  def predict(self,X):\n",
        "    self.X=X\n",
        "    self.n_samples,self.n_features=X.shape # assuming numpy ndarray\n",
        "\n",
        "    # initialization:\n",
        "    random_sample_idxs=np.random.choice(self.n_samples,self.K, replace=False)\n",
        "    self.centroids=[X[idx] for idx in random_sample_idxs]\n",
        "\n",
        "    for _ in range(self.max_iter):\n",
        "      # assign el samples to el closest centroids (create el clusters)\n",
        "      self.clusters=self._create_clusters(self.centroids)\n",
        "      centroids_old=self.centroids\n",
        "      self.centroids=self._get_centroids(self.clusters)\n",
        "      if self._is_converged(centroids_old, self.centroids):\n",
        "        break\n",
        "\n",
        "    return self._get_cluster_labels(self.clusters)\n",
        "\n",
        "  def _get_cluster_labels(self, clusters):\n",
        "    # kol sample hat get the label of the cluster it was assigned to:\n",
        "    labels=np.empty(self.n_samples)\n",
        "    for cluster_idx, cluster in enumerate(clusters):\n",
        "      for sample_idx in cluster:\n",
        "        labels[sample_idx]=cluster_idx\n",
        "    return labels\n",
        "\n",
        "\n",
        "  def _create_clusters(self,centroids):\n",
        "    clusters=[[] for _ in range(self.K)]\n",
        "    for idx, sample in enumerate(self.X):\n",
        "      centroid_idx=self._closest_centroid(sample,centroids)\n",
        "      clusters[centroid_idx].append(idx)\n",
        "    return clusters\n",
        "\n",
        "\n",
        "\n",
        "  def _closest_centroid(self,sample,centroids):\n",
        "    distances=[self._euclidean_distance(sample,point) for point in centroids]\n",
        "    closest_idx=np.argmin(distances)\n",
        "    return closest_idx\n",
        "\n",
        "  def _euclidean_distance(self,x1,x2):\n",
        "    return np.sqrt(np.sum((x1-x2)**2))\n",
        "\n",
        "\n",
        "  def _get_centroids(self, clusters):\n",
        "    centroids=np.zeros((self.K,self.n_features))\n",
        "    for cluster_idx, cluster in enumerate(clusters):\n",
        "      cluster_mean=np.mean(self.X[cluster],axis=0)\n",
        "      centroids[cluster_idx]=cluster_mean\n",
        "\n",
        "  def _is_converged(self, centroids, old_centroids):\n",
        "    distances=[self._euclidean_distance(centroids[i],old_centroids[i]) for i in range(self.K)]\n",
        "    return sum(distances)==0\n",
        "\n",
        "\n",
        "\n",
        "\n",
        "\n",
        "\n",
        "\n",
        "\n",
        ""
      ],
      "metadata": {
        "id": "PuHKa30N1tYz"
      },
      "execution_count": 7,
      "outputs": []
    },
    {
      "cell_type": "code",
      "source": [],
      "metadata": {
        "id": "_FaDJyDaB0R6"
      },
      "execution_count": null,
      "outputs": []
    }
  ]
}